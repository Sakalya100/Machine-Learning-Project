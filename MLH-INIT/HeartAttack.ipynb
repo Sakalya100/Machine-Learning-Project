{
 "cells": [
  {
   "cell_type": "markdown",
   "id": "7f393a72",
   "metadata": {},
   "source": [
    "## Imports"
   ]
  },
  {
   "cell_type": "code",
   "execution_count": 182,
   "id": "eb0986b7",
   "metadata": {},
   "outputs": [],
   "source": [
    "import pandas as pd\n",
    "import sklearn.metrics as sm \n",
    "import matplotlib.pyplot as plt\n",
    "\n",
    "from sklearn.metrics import accuracy_score\n",
    "from sklearn.preprocessing import PolynomialFeatures\n",
    "from sklearn.model_selection import train_test_split"
   ]
  },
  {
   "cell_type": "markdown",
   "id": "83a46870",
   "metadata": {},
   "source": [
    "### Imports relating to Machine Learning Models"
   ]
  },
  {
   "cell_type": "code",
   "execution_count": 183,
   "id": "180ecffc",
   "metadata": {},
   "outputs": [],
   "source": [
    "from sklearn.svm import SVC\n",
    "from sklearn.neighbors import KNeighborsClassifier\n",
    "from sklearn.tree import DecisionTreeRegressor\n",
    "from sklearn.tree import DecisionTreeClassifier\n",
    "from sklearn.linear_model import LogisticRegression"
   ]
  },
  {
   "cell_type": "markdown",
   "id": "c3408a4f",
   "metadata": {},
   "source": [
    "### Imports for efficiency / accuracy check"
   ]
  },
  {
   "cell_type": "code",
   "execution_count": 184,
   "id": "d731ae9a",
   "metadata": {},
   "outputs": [],
   "source": [
    "from sklearn.metrics import classification_report, confusion_matrix \n",
    "from sklearn.metrics import r2_score\n",
    "from sklearn.metrics import accuracy_score"
   ]
  },
  {
   "cell_type": "markdown",
   "id": "c64ebc4b",
   "metadata": {},
   "source": [
    "### Imports Ensemble Learning Models"
   ]
  },
  {
   "cell_type": "code",
   "execution_count": 185,
   "id": "12696688",
   "metadata": {},
   "outputs": [],
   "source": [
    "from sklearn.ensemble import VotingClassifier\n",
    "from sklearn.ensemble import AdaBoostClassifier\n",
    "from sklearn.ensemble import GradientBoostingClassifier\n",
    "from xgboost import XGBClassifier\n",
    "from sklearn.ensemble import BaggingClassifier"
   ]
  },
  {
   "cell_type": "markdown",
   "id": "353b3da6",
   "metadata": {},
   "source": [
    "## Constants"
   ]
  },
  {
   "cell_type": "code",
   "execution_count": 186,
   "id": "9862c211",
   "metadata": {},
   "outputs": [],
   "source": [
    "#constants\n",
    "PATH = \"//Users/sagarcbellad/MLProjects/HeartAttackPrediction/heart.csv\"\n",
    "\n",
    "nm, nw = 0, 0 #number of males and number of females\n",
    "n1, n0 = 0, 0 #number of heartAttack cases VS number of non-heartAttack Cases\n",
    "\n",
    "ALGO = list()\n",
    "ACCURACY = list()\n",
    "\n",
    "acutal_values = list()\n",
    "predictions = list()\n",
    "predictions1 = list()\n",
    "predictions2 = list()\n",
    "predictions3 = list()"
   ]
  },
  {
   "cell_type": "code",
   "execution_count": 187,
   "id": "41658942",
   "metadata": {},
   "outputs": [
    {
     "name": "stdout",
     "output_type": "stream",
     "text": [
      "<class 'pandas.core.frame.DataFrame'>\n"
     ]
    }
   ],
   "source": [
    "data = pd.read_csv(PATH)\n",
    "print(type(data))"
   ]
  },
  {
   "cell_type": "markdown",
   "id": "5cf3aecb",
   "metadata": {},
   "source": [
    "### Exploring the data"
   ]
  },
  {
   "cell_type": "code",
   "execution_count": 188,
   "id": "7d5c3795",
   "metadata": {},
   "outputs": [
    {
     "name": "stdout",
     "output_type": "stream",
     "text": [
      "Shape\n",
      "(303, 14)\n"
     ]
    }
   ],
   "source": [
    "print(\"Shape\")\n",
    "print(data.shape)"
   ]
  },
  {
   "cell_type": "code",
   "execution_count": 189,
   "id": "071f8b6c",
   "metadata": {},
   "outputs": [
    {
     "name": "stdout",
     "output_type": "stream",
     "text": [
      "Data Descriptions\n",
      "              age         sex          cp    trestbps        chol         fbs  \\\n",
      "count  303.000000  303.000000  303.000000  303.000000  303.000000  303.000000   \n",
      "mean    54.366337    0.683168    0.966997  131.623762  246.264026    0.148515   \n",
      "std      9.082101    0.466011    1.032052   17.538143   51.830751    0.356198   \n",
      "min     29.000000    0.000000    0.000000   94.000000  126.000000    0.000000   \n",
      "25%     47.500000    0.000000    0.000000  120.000000  211.000000    0.000000   \n",
      "50%     55.000000    1.000000    1.000000  130.000000  240.000000    0.000000   \n",
      "75%     61.000000    1.000000    2.000000  140.000000  274.500000    0.000000   \n",
      "max     77.000000    1.000000    3.000000  200.000000  564.000000    1.000000   \n",
      "\n",
      "          restecg     thalach       exang     oldpeak       slope          ca  \\\n",
      "count  303.000000  303.000000  303.000000  303.000000  303.000000  303.000000   \n",
      "mean     0.528053  149.646865    0.326733    1.039604    1.399340    0.729373   \n",
      "std      0.525860   22.905161    0.469794    1.161075    0.616226    1.022606   \n",
      "min      0.000000   71.000000    0.000000    0.000000    0.000000    0.000000   \n",
      "25%      0.000000  133.500000    0.000000    0.000000    1.000000    0.000000   \n",
      "50%      1.000000  153.000000    0.000000    0.800000    1.000000    0.000000   \n",
      "75%      1.000000  166.000000    1.000000    1.600000    2.000000    1.000000   \n",
      "max      2.000000  202.000000    1.000000    6.200000    2.000000    4.000000   \n",
      "\n",
      "             thal      target  \n",
      "count  303.000000  303.000000  \n",
      "mean     2.313531    0.544554  \n",
      "std      0.612277    0.498835  \n",
      "min      0.000000    0.000000  \n",
      "25%      2.000000    0.000000  \n",
      "50%      2.000000    1.000000  \n",
      "75%      3.000000    1.000000  \n",
      "max      3.000000    1.000000  \n"
     ]
    }
   ],
   "source": [
    "print(\"Data Descriptions\")\n",
    "\n",
    "#Full Forms\n",
    "\n",
    "'''\n",
    "cp - ChestPain\n",
    "trestbps - restingBloodPressure\n",
    "chol - serum cholestoral in mg/dl\n",
    "fbs - fasting blood sugar > 120 mg/dl\n",
    "restecg - resting electrocardiographic results (values 0,1,2) \n",
    "thalach - maximum heart rate achieved \n",
    "exang - exercise induced angina\n",
    "oldpeak - ST depression induced by exercise relative to rest\n",
    "slope - the slope of the peak exercise ST segment\n",
    "ca\t- number of major vessels (0-3) colored by flourosopy\n",
    "thal - 0 = normal; 1 = fixed defect; 2 = reversable defect\n",
    "target - 0= less chance of heart attack 1= more chance of heart attack\n",
    "\n",
    " '''\n",
    "\n",
    "print(data.describe())"
   ]
  },
  {
   "cell_type": "code",
   "execution_count": 190,
   "id": "ac6c9323",
   "metadata": {},
   "outputs": [
    {
     "name": "stdout",
     "output_type": "stream",
     "text": [
      "Columns\n",
      "Index(['age', 'sex', 'cp', 'trestbps', 'chol', 'fbs', 'restecg', 'thalach',\n",
      "       'exang', 'oldpeak', 'slope', 'ca', 'thal', 'target'],\n",
      "      dtype='object')\n"
     ]
    }
   ],
   "source": [
    "print(\"Columns\")\n",
    "print(data.columns)"
   ]
  },
  {
   "cell_type": "code",
   "execution_count": 191,
   "id": "8d4d607c",
   "metadata": {},
   "outputs": [
    {
     "name": "stdout",
     "output_type": "stream",
     "text": [
      "DataTypes\n",
      "age           int64\n",
      "sex           int64\n",
      "cp            int64\n",
      "trestbps      int64\n",
      "chol          int64\n",
      "fbs           int64\n",
      "restecg       int64\n",
      "thalach       int64\n",
      "exang         int64\n",
      "oldpeak     float64\n",
      "slope         int64\n",
      "ca            int64\n",
      "thal          int64\n",
      "target        int64\n",
      "dtype: object\n"
     ]
    }
   ],
   "source": [
    "print(\"DataTypes\")\n",
    "print(data.dtypes)"
   ]
  },
  {
   "cell_type": "code",
   "execution_count": 192,
   "id": "5fb2be92",
   "metadata": {},
   "outputs": [
    {
     "name": "stdout",
     "output_type": "stream",
     "text": [
      "Data Description\n",
      "              age         sex          cp    trestbps        chol         fbs  \\\n",
      "count  303.000000  303.000000  303.000000  303.000000  303.000000  303.000000   \n",
      "mean    54.366337    0.683168    0.966997  131.623762  246.264026    0.148515   \n",
      "std      9.082101    0.466011    1.032052   17.538143   51.830751    0.356198   \n",
      "min     29.000000    0.000000    0.000000   94.000000  126.000000    0.000000   \n",
      "25%     47.500000    0.000000    0.000000  120.000000  211.000000    0.000000   \n",
      "50%     55.000000    1.000000    1.000000  130.000000  240.000000    0.000000   \n",
      "75%     61.000000    1.000000    2.000000  140.000000  274.500000    0.000000   \n",
      "max     77.000000    1.000000    3.000000  200.000000  564.000000    1.000000   \n",
      "\n",
      "          restecg     thalach       exang     oldpeak       slope          ca  \\\n",
      "count  303.000000  303.000000  303.000000  303.000000  303.000000  303.000000   \n",
      "mean     0.528053  149.646865    0.326733    1.039604    1.399340    0.729373   \n",
      "std      0.525860   22.905161    0.469794    1.161075    0.616226    1.022606   \n",
      "min      0.000000   71.000000    0.000000    0.000000    0.000000    0.000000   \n",
      "25%      0.000000  133.500000    0.000000    0.000000    1.000000    0.000000   \n",
      "50%      1.000000  153.000000    0.000000    0.800000    1.000000    0.000000   \n",
      "75%      1.000000  166.000000    1.000000    1.600000    2.000000    1.000000   \n",
      "max      2.000000  202.000000    1.000000    6.200000    2.000000    4.000000   \n",
      "\n",
      "             thal      target  \n",
      "count  303.000000  303.000000  \n",
      "mean     2.313531    0.544554  \n",
      "std      0.612277    0.498835  \n",
      "min      0.000000    0.000000  \n",
      "25%      2.000000    0.000000  \n",
      "50%      2.000000    1.000000  \n",
      "75%      3.000000    1.000000  \n",
      "max      3.000000    1.000000  \n"
     ]
    }
   ],
   "source": [
    "print(\"Data Description\")\n",
    "print(data.describe())"
   ]
  },
  {
   "cell_type": "code",
   "execution_count": 193,
   "id": "29956736",
   "metadata": {},
   "outputs": [
    {
     "name": "stdout",
     "output_type": "stream",
     "text": [
      "age         0\n",
      "sex         0\n",
      "cp          0\n",
      "trestbps    0\n",
      "chol        0\n",
      "fbs         0\n",
      "restecg     0\n",
      "thalach     0\n",
      "exang       0\n",
      "oldpeak     0\n",
      "slope       0\n",
      "ca          0\n",
      "thal        0\n",
      "target      0\n",
      "dtype: int64\n"
     ]
    }
   ],
   "source": [
    "#Checking for NULL values in the dataset\n",
    "print(data.isnull().sum())"
   ]
  },
  {
   "cell_type": "markdown",
   "id": "f636a9b2",
   "metadata": {},
   "source": [
    "### Plotting"
   ]
  },
  {
   "cell_type": "code",
   "execution_count": 194,
   "id": "61ec3ec0",
   "metadata": {},
   "outputs": [
    {
     "data": {
      "image/png": "[encoded data removed]",
      "text/plain": [
       "<Figure size 432x288 with 1 Axes>"
      ]
     },
     "metadata": {
      "needs_background": "light"
     },
     "output_type": "display_data"
    }
   ],
   "source": [
    "for i in data['sex']:\n",
    "    if i == 1:\n",
    "        nm += 1\n",
    "    else:\n",
    "        nw +=1\n",
    "\n",
    "#Number of Males VS Females\n",
    "y = [nm, nw]\n",
    "x = ['Male', 'Female']\n",
    "plt.title('Male VS Female')\n",
    "plt.bar(x, y, width=0.1, alpha=0.8)\n",
    "\n",
    "#ChestPain \n",
    "n0, n1, n2, n3 = 0, 0, 0, 0\n",
    "for i in data['cp']:\n",
    "    if i == 0:\n",
    "        n0 +=1\n",
    "    elif i == 1:\n",
    "        n1 +=1\n",
    "    elif i == 2:\n",
    "        n2 +=1\n",
    "    else:\n",
    "        n3 +=1"
   ]
  },
  {
   "cell_type": "code",
   "execution_count": 195,
   "id": "43b0107b",
   "metadata": {},
   "outputs": [
    {
     "name": "stdout",
     "output_type": "stream",
     "text": [
      "Number of heart attack Cases 215\n",
      "Number of non-heart attack Cases 281\n"
     ]
    },
    {
     "data": {
      "text/plain": [
       "<BarContainer object of 2 artists>"
      ]
     },
     "execution_count": 195,
     "metadata": {},
     "output_type": "execute_result"
    },
    {
     "data": {
      "image/png": "[encoded data removed]",
      "text/plain": [
       "<Figure size 432x288 with 1 Axes>"
      ]
     },
     "metadata": {
      "needs_background": "light"
     },
     "output_type": "display_data"
    }
   ],
   "source": [
    "#Plotting number of heart Attack VS non-heartAttack Cases\n",
    "Y = data['target']\n",
    "for i in Y:\n",
    "    if i == 1:  \n",
    "        n1 = n1+1\n",
    "    else:\n",
    "        n0 +=1\n",
    "\n",
    "print(\"Number of heart attack Cases\", n1)\n",
    "print(\"Number of non-heart attack Cases\", n0)\n",
    "\n",
    "x_label = ['HeartAttack', 'Non-heartAttack']\n",
    "y_label = [165, 138]\n",
    "\n",
    "plt.bar(x_label, y_label, color='red', width=0.1)"
   ]
  },
  {
   "cell_type": "markdown",
   "id": "f44ca360",
   "metadata": {},
   "source": [
    "### Co-relation"
   ]
  },
  {
   "cell_type": "code",
   "execution_count": 196,
   "id": "b247804e",
   "metadata": {},
   "outputs": [
    {
     "name": "stdout",
     "output_type": "stream",
     "text": [
      "     age  sex  cp  trestbps  chol  fbs  restecg  thalach  exang  oldpeak  \\\n",
      "0     63    1   3       145   233    1        0      150      0      2.3   \n",
      "1     37    1   2       130   250    0        1      187      0      3.5   \n",
      "2     41    0   1       130   204    0        0      172      0      1.4   \n",
      "3     56    1   1       120   236    0        1      178      0      0.8   \n",
      "4     57    0   0       120   354    0        1      163      1      0.6   \n",
      "..   ...  ...  ..       ...   ...  ...      ...      ...    ...      ...   \n",
      "298   57    0   0       140   241    0        1      123      1      0.2   \n",
      "299   45    1   3       110   264    0        1      132      0      1.2   \n",
      "300   68    1   0       144   193    1        1      141      0      3.4   \n",
      "301   57    1   0       130   131    0        1      115      1      1.2   \n",
      "302   57    0   1       130   236    0        0      174      0      0.0   \n",
      "\n",
      "     slope  ca  thal  \n",
      "0        0   0     1  \n",
      "1        0   0     2  \n",
      "2        2   0     2  \n",
      "3        2   0     2  \n",
      "4        2   0     2  \n",
      "..     ...  ..   ...  \n",
      "298      1   0     3  \n",
      "299      1   0     3  \n",
      "300      1   2     3  \n",
      "301      1   1     3  \n",
      "302      1   1     2  \n",
      "\n",
      "[303 rows x 13 columns]\n"
     ]
    }
   ],
   "source": [
    "#Seperating data with final output for checking co-relation\n",
    "X = data[['age', 'sex', 'cp', 'trestbps', 'chol', 'fbs', 'restecg', 'thalach',\n",
    "       'exang', 'oldpeak', 'slope', 'ca', 'thal']]\n",
    "print(X)"
   ]
  },
  {
   "cell_type": "code",
   "execution_count": 197,
   "id": "dd619efe",
   "metadata": {},
   "outputs": [
    {
     "data": {
      "text/plain": [
       "<matplotlib.image.AxesImage at 0x7f86d05b9e80>"
      ]
     },
     "execution_count": 197,
     "metadata": {},
     "output_type": "execute_result"
    },
    {
     "data": {
      "image/png": "[encoded data removed]",
      "text/plain": [
       "<Figure size 288x288 with 1 Axes>"
      ]
     },
     "metadata": {
      "needs_background": "light"
     },
     "output_type": "display_data"
    }
   ],
   "source": [
    "corr = X.corr()\n",
    "plt.matshow(corr)"
   ]
  },
  {
   "cell_type": "code",
   "execution_count": 198,
   "id": "25473f28",
   "metadata": {},
   "outputs": [
    {
     "data": {
      "text/html": [
       "<div>\n",
       "<style scoped>\n",
       "    .dataframe tbody tr th:only-of-type {\n",
       "        vertical-align: middle;\n",
       "    }\n",
       "\n",
       "    .dataframe tbody tr th {\n",
       "        vertical-align: top;\n",
       "    }\n",
       "\n",
       "    .dataframe thead th {\n",
       "        text-align: right;\n",
       "    }\n",
       "</style>\n",
       "<table border=\"1\" class=\"dataframe\">\n",
       "  <thead>\n",
       "    <tr style=\"text-align: right;\">\n",
       "      <th></th>\n",
       "      <th>age</th>\n",
       "      <th>sex</th>\n",
       "      <th>cp</th>\n",
       "      <th>trestbps</th>\n",
       "      <th>chol</th>\n",
       "      <th>fbs</th>\n",
       "      <th>restecg</th>\n",
       "      <th>thalach</th>\n",
       "      <th>exang</th>\n",
       "      <th>oldpeak</th>\n",
       "      <th>slope</th>\n",
       "      <th>ca</th>\n",
       "      <th>thal</th>\n",
       "    </tr>\n",
       "  </thead>\n",
       "  <tbody>\n",
       "    <tr>\n",
       "      <th>age</th>\n",
       "      <td>1.000000</td>\n",
       "      <td>-0.098447</td>\n",
       "      <td>-0.068653</td>\n",
       "      <td>0.279351</td>\n",
       "      <td>0.213678</td>\n",
       "      <td>0.121308</td>\n",
       "      <td>-0.116211</td>\n",
       "      <td>-0.398522</td>\n",
       "      <td>0.096801</td>\n",
       "      <td>0.210013</td>\n",
       "      <td>-0.168814</td>\n",
       "      <td>0.276326</td>\n",
       "      <td>0.068001</td>\n",
       "    </tr>\n",
       "    <tr>\n",
       "      <th>sex</th>\n",
       "      <td>-0.098447</td>\n",
       "      <td>1.000000</td>\n",
       "      <td>-0.049353</td>\n",
       "      <td>-0.056769</td>\n",
       "      <td>-0.197912</td>\n",
       "      <td>0.045032</td>\n",
       "      <td>-0.058196</td>\n",
       "      <td>-0.044020</td>\n",
       "      <td>0.141664</td>\n",
       "      <td>0.096093</td>\n",
       "      <td>-0.030711</td>\n",
       "      <td>0.118261</td>\n",
       "      <td>0.210041</td>\n",
       "    </tr>\n",
       "    <tr>\n",
       "      <th>cp</th>\n",
       "      <td>-0.068653</td>\n",
       "      <td>-0.049353</td>\n",
       "      <td>1.000000</td>\n",
       "      <td>0.047608</td>\n",
       "      <td>-0.076904</td>\n",
       "      <td>0.094444</td>\n",
       "      <td>0.044421</td>\n",
       "      <td>0.295762</td>\n",
       "      <td>-0.394280</td>\n",
       "      <td>-0.149230</td>\n",
       "      <td>0.119717</td>\n",
       "      <td>-0.181053</td>\n",
       "      <td>-0.161736</td>\n",
       "    </tr>\n",
       "    <tr>\n",
       "      <th>trestbps</th>\n",
       "      <td>0.279351</td>\n",
       "      <td>-0.056769</td>\n",
       "      <td>0.047608</td>\n",
       "      <td>1.000000</td>\n",
       "      <td>0.123174</td>\n",
       "      <td>0.177531</td>\n",
       "      <td>-0.114103</td>\n",
       "      <td>-0.046698</td>\n",
       "      <td>0.067616</td>\n",
       "      <td>0.193216</td>\n",
       "      <td>-0.121475</td>\n",
       "      <td>0.101389</td>\n",
       "      <td>0.062210</td>\n",
       "    </tr>\n",
       "    <tr>\n",
       "      <th>chol</th>\n",
       "      <td>0.213678</td>\n",
       "      <td>-0.197912</td>\n",
       "      <td>-0.076904</td>\n",
       "      <td>0.123174</td>\n",
       "      <td>1.000000</td>\n",
       "      <td>0.013294</td>\n",
       "      <td>-0.151040</td>\n",
       "      <td>-0.009940</td>\n",
       "      <td>0.067023</td>\n",
       "      <td>0.053952</td>\n",
       "      <td>-0.004038</td>\n",
       "      <td>0.070511</td>\n",
       "      <td>0.098803</td>\n",
       "    </tr>\n",
       "    <tr>\n",
       "      <th>fbs</th>\n",
       "      <td>0.121308</td>\n",
       "      <td>0.045032</td>\n",
       "      <td>0.094444</td>\n",
       "      <td>0.177531</td>\n",
       "      <td>0.013294</td>\n",
       "      <td>1.000000</td>\n",
       "      <td>-0.084189</td>\n",
       "      <td>-0.008567</td>\n",
       "      <td>0.025665</td>\n",
       "      <td>0.005747</td>\n",
       "      <td>-0.059894</td>\n",
       "      <td>0.137979</td>\n",
       "      <td>-0.032019</td>\n",
       "    </tr>\n",
       "    <tr>\n",
       "      <th>restecg</th>\n",
       "      <td>-0.116211</td>\n",
       "      <td>-0.058196</td>\n",
       "      <td>0.044421</td>\n",
       "      <td>-0.114103</td>\n",
       "      <td>-0.151040</td>\n",
       "      <td>-0.084189</td>\n",
       "      <td>1.000000</td>\n",
       "      <td>0.044123</td>\n",
       "      <td>-0.070733</td>\n",
       "      <td>-0.058770</td>\n",
       "      <td>0.093045</td>\n",
       "      <td>-0.072042</td>\n",
       "      <td>-0.011981</td>\n",
       "    </tr>\n",
       "    <tr>\n",
       "      <th>thalach</th>\n",
       "      <td>-0.398522</td>\n",
       "      <td>-0.044020</td>\n",
       "      <td>0.295762</td>\n",
       "      <td>-0.046698</td>\n",
       "      <td>-0.009940</td>\n",
       "      <td>-0.008567</td>\n",
       "      <td>0.044123</td>\n",
       "      <td>1.000000</td>\n",
       "      <td>-0.378812</td>\n",
       "      <td>-0.344187</td>\n",
       "      <td>0.386784</td>\n",
       "      <td>-0.213177</td>\n",
       "      <td>-0.096439</td>\n",
       "    </tr>\n",
       "    <tr>\n",
       "      <th>exang</th>\n",
       "      <td>0.096801</td>\n",
       "      <td>0.141664</td>\n",
       "      <td>-0.394280</td>\n",
       "      <td>0.067616</td>\n",
       "      <td>0.067023</td>\n",
       "      <td>0.025665</td>\n",
       "      <td>-0.070733</td>\n",
       "      <td>-0.378812</td>\n",
       "      <td>1.000000</td>\n",
       "      <td>0.288223</td>\n",
       "      <td>-0.257748</td>\n",
       "      <td>0.115739</td>\n",
       "      <td>0.206754</td>\n",
       "    </tr>\n",
       "    <tr>\n",
       "      <th>oldpeak</th>\n",
       "      <td>0.210013</td>\n",
       "      <td>0.096093</td>\n",
       "      <td>-0.149230</td>\n",
       "      <td>0.193216</td>\n",
       "      <td>0.053952</td>\n",
       "      <td>0.005747</td>\n",
       "      <td>-0.058770</td>\n",
       "      <td>-0.344187</td>\n",
       "      <td>0.288223</td>\n",
       "      <td>1.000000</td>\n",
       "      <td>-0.577537</td>\n",
       "      <td>0.222682</td>\n",
       "      <td>0.210244</td>\n",
       "    </tr>\n",
       "    <tr>\n",
       "      <th>slope</th>\n",
       "      <td>-0.168814</td>\n",
       "      <td>-0.030711</td>\n",
       "      <td>0.119717</td>\n",
       "      <td>-0.121475</td>\n",
       "      <td>-0.004038</td>\n",
       "      <td>-0.059894</td>\n",
       "      <td>0.093045</td>\n",
       "      <td>0.386784</td>\n",
       "      <td>-0.257748</td>\n",
       "      <td>-0.577537</td>\n",
       "      <td>1.000000</td>\n",
       "      <td>-0.080155</td>\n",
       "      <td>-0.104764</td>\n",
       "    </tr>\n",
       "    <tr>\n",
       "      <th>ca</th>\n",
       "      <td>0.276326</td>\n",
       "      <td>0.118261</td>\n",
       "      <td>-0.181053</td>\n",
       "      <td>0.101389</td>\n",
       "      <td>0.070511</td>\n",
       "      <td>0.137979</td>\n",
       "      <td>-0.072042</td>\n",
       "      <td>-0.213177</td>\n",
       "      <td>0.115739</td>\n",
       "      <td>0.222682</td>\n",
       "      <td>-0.080155</td>\n",
       "      <td>1.000000</td>\n",
       "      <td>0.151832</td>\n",
       "    </tr>\n",
       "    <tr>\n",
       "      <th>thal</th>\n",
       "      <td>0.068001</td>\n",
       "      <td>0.210041</td>\n",
       "      <td>-0.161736</td>\n",
       "      <td>0.062210</td>\n",
       "      <td>0.098803</td>\n",
       "      <td>-0.032019</td>\n",
       "      <td>-0.011981</td>\n",
       "      <td>-0.096439</td>\n",
       "      <td>0.206754</td>\n",
       "      <td>0.210244</td>\n",
       "      <td>-0.104764</td>\n",
       "      <td>0.151832</td>\n",
       "      <td>1.000000</td>\n",
       "    </tr>\n",
       "  </tbody>\n",
       "</table>\n",
       "</div>"
      ],
      "text/plain": [
       "               age       sex        cp  trestbps      chol       fbs  \\\n",
       "age       1.000000 -0.098447 -0.068653  0.279351  0.213678  0.121308   \n",
       "sex      -0.098447  1.000000 -0.049353 -0.056769 -0.197912  0.045032   \n",
       "cp       -0.068653 -0.049353  1.000000  0.047608 -0.076904  0.094444   \n",
       "trestbps  0.279351 -0.056769  0.047608  1.000000  0.123174  0.177531   \n",
       "chol      0.213678 -0.197912 -0.076904  0.123174  1.000000  0.013294   \n",
       "fbs       0.121308  0.045032  0.094444  0.177531  0.013294  1.000000   \n",
       "restecg  -0.116211 -0.058196  0.044421 -0.114103 -0.151040 -0.084189   \n",
       "thalach  -0.398522 -0.044020  0.295762 -0.046698 -0.009940 -0.008567   \n",
       "exang     0.096801  0.141664 -0.394280  0.067616  0.067023  0.025665   \n",
       "oldpeak   0.210013  0.096093 -0.149230  0.193216  0.053952  0.005747   \n",
       "slope    -0.168814 -0.030711  0.119717 -0.121475 -0.004038 -0.059894   \n",
       "ca        0.276326  0.118261 -0.181053  0.101389  0.070511  0.137979   \n",
       "thal      0.068001  0.210041 -0.161736  0.062210  0.098803 -0.032019   \n",
       "\n",
       "           restecg   thalach     exang   oldpeak     slope        ca      thal  \n",
       "age      -0.116211 -0.398522  0.096801  0.210013 -0.168814  0.276326  0.068001  \n",
       "sex      -0.058196 -0.044020  0.141664  0.096093 -0.030711  0.118261  0.210041  \n",
       "cp        0.044421  0.295762 -0.394280 -0.149230  0.119717 -0.181053 -0.161736  \n",
       "trestbps -0.114103 -0.046698  0.067616  0.193216 -0.121475  0.101389  0.062210  \n",
       "chol     -0.151040 -0.009940  0.067023  0.053952 -0.004038  0.070511  0.098803  \n",
       "fbs      -0.084189 -0.008567  0.025665  0.005747 -0.059894  0.137979 -0.032019  \n",
       "restecg   1.000000  0.044123 -0.070733 -0.058770  0.093045 -0.072042 -0.011981  \n",
       "thalach   0.044123  1.000000 -0.378812 -0.344187  0.386784 -0.213177 -0.096439  \n",
       "exang    -0.070733 -0.378812  1.000000  0.288223 -0.257748  0.115739  0.206754  \n",
       "oldpeak  -0.058770 -0.344187  0.288223  1.000000 -0.577537  0.222682  0.210244  \n",
       "slope     0.093045  0.386784 -0.257748 -0.577537  1.000000 -0.080155 -0.104764  \n",
       "ca       -0.072042 -0.213177  0.115739  0.222682 -0.080155  1.000000  0.151832  \n",
       "thal     -0.011981 -0.096439  0.206754  0.210244 -0.104764  0.151832  1.000000  "
      ]
     },
     "execution_count": 198,
     "metadata": {},
     "output_type": "execute_result"
    }
   ],
   "source": [
    "#printing\n",
    "corr"
   ]
  },
  {
   "cell_type": "markdown",
   "id": "81349b87",
   "metadata": {},
   "source": [
    "## Splitting the dataset"
   ]
  },
  {
   "cell_type": "code",
   "execution_count": 199,
   "id": "4e4d5d5d",
   "metadata": {},
   "outputs": [],
   "source": [
    "x_train, x_test, y_train, y_test = train_test_split(X, Y, shuffle=True, test_size=0.30)"
   ]
  },
  {
   "cell_type": "markdown",
   "id": "d2d082ac",
   "metadata": {},
   "source": [
    "### Checking the splits shape()"
   ]
  },
  {
   "cell_type": "code",
   "execution_count": 200,
   "id": "bbd1a8b2",
   "metadata": {},
   "outputs": [
    {
     "name": "stdout",
     "output_type": "stream",
     "text": [
      "Training data shape\n",
      "(212, 13)\n",
      "(212,)\n"
     ]
    }
   ],
   "source": [
    "print(\"Training data shape\")\n",
    "print(x_train.shape)\n",
    "print(y_train.shape)"
   ]
  },
  {
   "cell_type": "code",
   "execution_count": 201,
   "id": "82c98229",
   "metadata": {},
   "outputs": [
    {
     "name": "stdout",
     "output_type": "stream",
     "text": [
      "Testing data shape\n",
      "(91, 13)\n",
      "(91,)\n"
     ]
    }
   ],
   "source": [
    "print(\"Testing data shape\")\n",
    "print(x_test.shape)\n",
    "print(y_test.shape)"
   ]
  },
  {
   "cell_type": "markdown",
   "id": "1a60d231",
   "metadata": {},
   "source": [
    "## Implementing the Models"
   ]
  },
  {
   "cell_type": "markdown",
   "id": "7ce6ef63",
   "metadata": {},
   "source": [
    "[Logistic Regression model = regr],\n",
    "[decision tree classifier = dtc], \n",
    "[support vector Machine = svm_model]"
   ]
  },
  {
   "cell_type": "markdown",
   "id": "6d5f2fa5",
   "metadata": {},
   "source": [
    "### Logistic Regression"
   ]
  },
  {
   "cell_type": "code",
   "execution_count": 202,
   "id": "885692e8",
   "metadata": {},
   "outputs": [
    {
     "name": "stderr",
     "output_type": "stream",
     "text": [
      "/Users/sagarcbellad/opt/anaconda3/envs/base1/lib/python3.6/site-packages/sklearn/linear_model/_logistic.py:764: ConvergenceWarning: lbfgs failed to converge (status=1):\n",
      "STOP: TOTAL NO. of ITERATIONS REACHED LIMIT.\n",
      "\n",
      "Increase the number of iterations (max_iter) or scale the data as shown in:\n",
      "    https://scikit-learn.org/stable/modules/preprocessing.html\n",
      "Please also refer to the documentation for alternative solver options:\n",
      "    https://scikit-learn.org/stable/modules/linear_model.html#logistic-regression\n",
      "  extra_warning_msg=_LOGISTIC_SOLVER_CONVERGENCE_MSG)\n"
     ]
    },
    {
     "data": {
      "text/plain": [
       "LogisticRegression()"
      ]
     },
     "execution_count": 202,
     "metadata": {},
     "output_type": "execute_result"
    }
   ],
   "source": [
    "regr = LogisticRegression()\n",
    "regr.fit(x_train, y_train)"
   ]
  },
  {
   "cell_type": "code",
   "execution_count": 203,
   "id": "c9f25aea",
   "metadata": {},
   "outputs": [
    {
     "name": "stdout",
     "output_type": "stream",
     "text": [
      "[0 0 0 1 1 0 0 1 1 1 1 1 1 0 1 1 0 1 1 1 1 0 1 0 0 0 0 0 1 0 1 0 1 1 1 1 1\n",
      " 1 0 1 1 0 0 1 0 1 1 0 0 1 0 1 1 1 0 1 1 0 0 1 0 1 0 0 0 1 0 0 0 1 0 1 1 1\n",
      " 1 0 1 0 1 1 1 1 1 1 0 1 0 1 1 0 1]\n"
     ]
    }
   ],
   "source": [
    "predicted_values = regr.predict(x_test)\n",
    "print((predicted_values))"
   ]
  },
  {
   "cell_type": "code",
   "execution_count": 204,
   "id": "09b9353d",
   "metadata": {},
   "outputs": [
    {
     "name": "stdout",
     "output_type": "stream",
     "text": [
      "Accuracy  0.8791208791208791\n",
      "R2-Score  0.5064102564102564\n",
      "Mean absolute error  0.12087912087912088\n",
      "Mean squared error  0.12087912087912088\n",
      "Classification Report                precision    recall  f1-score   support\n",
      "\n",
      "           0       0.87      0.85      0.86        39\n",
      "           1       0.89      0.90      0.90        52\n",
      "\n",
      "    accuracy                           0.88        91\n",
      "   macro avg       0.88      0.88      0.88        91\n",
      "weighted avg       0.88      0.88      0.88        91\n",
      "\n",
      "Confusion Matrix  [[33  6]\n",
      " [ 5 47]]\n"
     ]
    }
   ],
   "source": [
    "actual_values = y_test\n",
    "print(\"Accuracy \", accuracy_score(actual_values, predicted_values))\n",
    "print(\"R2-Score \", r2_score(actual_values, predicted_values))\n",
    "print(\"Mean absolute error \",sm.mean_absolute_error(actual_values, predicted_values))\n",
    "print(\"Mean squared error \",sm.mean_squared_error(actual_values, predicted_values))\n",
    "\n",
    "print(\"Classification Report \", classification_report(actual_values, predicted_values))\n",
    "print(\"Confusion Matrix \", confusion_matrix(actual_values, predicted_values))"
   ]
  },
  {
   "cell_type": "code",
   "execution_count": 205,
   "id": "86b05059",
   "metadata": {},
   "outputs": [],
   "source": [
    "ALGO.append(\"Logistic Regression\")\n",
    "ACCURACY.append(accuracy_score(actual_values, predicted_values))"
   ]
  },
  {
   "cell_type": "markdown",
   "id": "77cc244f",
   "metadata": {},
   "source": [
    "## DecisionTreeRegressor"
   ]
  },
  {
   "cell_type": "code",
   "execution_count": 206,
   "id": "f4050c5d",
   "metadata": {},
   "outputs": [],
   "source": [
    "dtr = DecisionTreeRegressor()\n",
    "dtr.fit(x_train, y_train)\n",
    "predicted_values = dtr.predict(x_test)\n",
    "acutal_values = y_test"
   ]
  },
  {
   "cell_type": "code",
   "execution_count": 207,
   "id": "5eb5d5dd",
   "metadata": {},
   "outputs": [
    {
     "name": "stdout",
     "output_type": "stream",
     "text": [
      "Accuracy  0.8241758241758241\n",
      "R2-Score  0.28205128205128216\n",
      "Mean absolute error  0.17582417582417584\n",
      "Mean squared error  0.17582417582417584\n",
      "Classification Report                precision    recall  f1-score   support\n",
      "\n",
      "           0       0.79      0.79      0.79        39\n",
      "           1       0.85      0.85      0.85        52\n",
      "\n",
      "    accuracy                           0.82        91\n",
      "   macro avg       0.82      0.82      0.82        91\n",
      "weighted avg       0.82      0.82      0.82        91\n",
      "\n",
      "Confusion Matrix  [[31  8]\n",
      " [ 8 44]]\n"
     ]
    }
   ],
   "source": [
    "actual_values = y_test\n",
    "print(\"Accuracy \", accuracy_score(actual_values, predicted_values))\n",
    "print(\"R2-Score \", r2_score(actual_values, predicted_values))\n",
    "print(\"Mean absolute error \",sm.mean_absolute_error(actual_values, predicted_values))\n",
    "print(\"Mean squared error \",sm.mean_squared_error(actual_values, predicted_values))\n",
    "\n",
    "print(\"Classification Report \", classification_report(actual_values, predicted_values))\n",
    "print(\"Confusion Matrix \", confusion_matrix(actual_values, predicted_values))"
   ]
  },
  {
   "cell_type": "code",
   "execution_count": 208,
   "id": "5c2e2f10",
   "metadata": {},
   "outputs": [],
   "source": [
    "ALGO.append(\"Decision Tree Regressor\")\n",
    "ACCURACY.append(accuracy_score(actual_values, predicted_values))"
   ]
  },
  {
   "cell_type": "markdown",
   "id": "8a30a00d",
   "metadata": {},
   "source": [
    "## Support Vector Machine"
   ]
  },
  {
   "cell_type": "markdown",
   "id": "c16def30",
   "metadata": {},
   "source": [
    "### Applying all three kernals for trial purposes"
   ]
  },
  {
   "cell_type": "code",
   "execution_count": 209,
   "id": "7b5a4595",
   "metadata": {},
   "outputs": [],
   "source": [
    "#Defining the model\n",
    "svm_model1 = SVC(kernel='linear')\n",
    "svm_model2 = SVC(kernel=\"poly\")\n",
    "svm_model3 = SVC(kernel=\"rbf\")"
   ]
  },
  {
   "cell_type": "code",
   "execution_count": 210,
   "id": "8bf54184",
   "metadata": {},
   "outputs": [
    {
     "data": {
      "text/plain": [
       "SVC()"
      ]
     },
     "execution_count": 210,
     "metadata": {},
     "output_type": "execute_result"
    }
   ],
   "source": [
    "#Fitting the models\n",
    "svm_model1.fit(x_train, y_train)\n",
    "svm_model2.fit(x_train, y_train)\n",
    "svm_model3.fit(x_train, y_train)"
   ]
  },
  {
   "cell_type": "code",
   "execution_count": 211,
   "id": "0414d279",
   "metadata": {},
   "outputs": [],
   "source": [
    "#Cheching the classification\n",
    "predicted_values1 = svm_model1.predict(x_test)\n",
    "predicted_values2 = svm_model2.predict(x_test)\n",
    "predicted_values3 = svm_model3.predict(x_test)"
   ]
  },
  {
   "cell_type": "code",
   "execution_count": 212,
   "id": "0941d6cc",
   "metadata": {},
   "outputs": [],
   "source": [
    "actual_values = y_test"
   ]
  },
  {
   "cell_type": "code",
   "execution_count": 213,
   "id": "2259320c",
   "metadata": {},
   "outputs": [],
   "source": [
    "ALGO.append(\"SVM-LINEAR\")\n",
    "ALGO.append(\"SVM-POLY\")\n",
    "ALGO.append(\"SVM-RBF\")"
   ]
  },
  {
   "cell_type": "code",
   "execution_count": 214,
   "id": "2ce06219",
   "metadata": {},
   "outputs": [],
   "source": [
    "ACCURACY.append(accuracy_score(actual_values, predicted_values1))\n",
    "ACCURACY.append(accuracy_score(actual_values, predicted_values2))\n",
    "ACCURACY.append(accuracy_score(actual_values, predicted_values3))"
   ]
  },
  {
   "cell_type": "markdown",
   "id": "f3375cdf",
   "metadata": {},
   "source": [
    "#### SVM-linear results"
   ]
  },
  {
   "cell_type": "code",
   "execution_count": 215,
   "id": "45c1bc70",
   "metadata": {},
   "outputs": [
    {
     "name": "stdout",
     "output_type": "stream",
     "text": [
      "Accuracy  0.8901098901098901\n",
      "R2-Score  0.5512820512820513\n",
      "Mean absolute error  0.10989010989010989\n",
      "Mean squared error  0.10989010989010989\n",
      "Classification Report                precision    recall  f1-score   support\n",
      "\n",
      "           0       0.87      0.87      0.87        39\n",
      "           1       0.90      0.90      0.90        52\n",
      "\n",
      "    accuracy                           0.89        91\n",
      "   macro avg       0.89      0.89      0.89        91\n",
      "weighted avg       0.89      0.89      0.89        91\n",
      "\n",
      "Confusion Matrix  [[34  5]\n",
      " [ 5 47]]\n"
     ]
    }
   ],
   "source": [
    "print(\"Accuracy \", accuracy_score(actual_values, predicted_values1))\n",
    "print(\"R2-Score \", r2_score(actual_values, predicted_values1))\n",
    "print(\"Mean absolute error \",sm.mean_absolute_error(actual_values, predicted_values1))\n",
    "print(\"Mean squared error \",sm.mean_squared_error(actual_values, predicted_values1))\n",
    "\n",
    "print(\"Classification Report \", classification_report(actual_values, predicted_values1))\n",
    "print(\"Confusion Matrix \", confusion_matrix(actual_values, predicted_values1))"
   ]
  },
  {
   "cell_type": "markdown",
   "id": "e9f7dd55",
   "metadata": {},
   "source": [
    "#### SVM-poly results"
   ]
  },
  {
   "cell_type": "code",
   "execution_count": 216,
   "id": "7ed75847",
   "metadata": {},
   "outputs": [
    {
     "name": "stdout",
     "output_type": "stream",
     "text": [
      "Accuracy  0.6813186813186813\n",
      "R2-Score  -0.3012820512820511\n",
      "Mean absolute error  0.31868131868131866\n",
      "Mean squared error  0.31868131868131866\n",
      "Classification Report                precision    recall  f1-score   support\n",
      "\n",
      "           0       0.66      0.54      0.59        39\n",
      "           1       0.69      0.79      0.74        52\n",
      "\n",
      "    accuracy                           0.68        91\n",
      "   macro avg       0.68      0.66      0.67        91\n",
      "weighted avg       0.68      0.68      0.68        91\n",
      "\n",
      "Confusion Matrix  [[21 18]\n",
      " [11 41]]\n"
     ]
    }
   ],
   "source": [
    "print(\"Accuracy \", accuracy_score(actual_values, predicted_values2))\n",
    "print(\"R2-Score \", r2_score(actual_values, predicted_values2))\n",
    "print(\"Mean absolute error \",sm.mean_absolute_error(actual_values, predicted_values2))\n",
    "print(\"Mean squared error \",sm.mean_squared_error(actual_values, predicted_values2))\n",
    "\n",
    "print(\"Classification Report \", classification_report(actual_values, predicted_values2))\n",
    "print(\"Confusion Matrix \", confusion_matrix(actual_values, predicted_values2))"
   ]
  },
  {
   "cell_type": "markdown",
   "id": "c47e5e38",
   "metadata": {},
   "source": [
    "#### SVM-rbf results"
   ]
  },
  {
   "cell_type": "code",
   "execution_count": 217,
   "id": "264c0203",
   "metadata": {},
   "outputs": [
    {
     "name": "stdout",
     "output_type": "stream",
     "text": [
      "Accuracy  0.6703296703296703\n",
      "R2-Score  -0.34615384615384603\n",
      "Mean absolute error  0.32967032967032966\n",
      "Mean squared error  0.32967032967032966\n",
      "Classification Report                precision    recall  f1-score   support\n",
      "\n",
      "           0       0.67      0.46      0.55        39\n",
      "           1       0.67      0.83      0.74        52\n",
      "\n",
      "    accuracy                           0.67        91\n",
      "   macro avg       0.67      0.64      0.64        91\n",
      "weighted avg       0.67      0.67      0.66        91\n",
      "\n",
      "Confusion Matrix  [[18 21]\n",
      " [ 9 43]]\n"
     ]
    }
   ],
   "source": [
    "print(\"Accuracy \", accuracy_score(actual_values, predicted_values3))\n",
    "print(\"R2-Score \", r2_score(actual_values, predicted_values3))\n",
    "print(\"Mean absolute error \",sm.mean_absolute_error(actual_values, predicted_values3))\n",
    "print(\"Mean squared error \",sm.mean_squared_error(actual_values, predicted_values3))\n",
    "\n",
    "print(\"Classification Report \", classification_report(actual_values, predicted_values3))\n",
    "print(\"Confusion Matrix \", confusion_matrix(actual_values, predicted_values3))"
   ]
  },
  {
   "cell_type": "markdown",
   "id": "7e44d9ba",
   "metadata": {},
   "source": [
    "## KNN - Classifier"
   ]
  },
  {
   "cell_type": "code",
   "execution_count": 218,
   "id": "baaa2746",
   "metadata": {},
   "outputs": [],
   "source": [
    "knn_model = KNeighborsClassifier()\n",
    "knn_model.fit(x_train, y_train)\n",
    "predicted_values = knn_model.predict(x_test)"
   ]
  },
  {
   "cell_type": "markdown",
   "id": "c1a54c55",
   "metadata": {},
   "source": [
    "### KNN results"
   ]
  },
  {
   "cell_type": "code",
   "execution_count": 219,
   "id": "24f10789",
   "metadata": {},
   "outputs": [
    {
     "name": "stdout",
     "output_type": "stream",
     "text": [
      "Accuracy  0.6153846153846154\n",
      "R2-Score  -0.5705128205128203\n",
      "Mean absolute error  0.38461538461538464\n",
      "Mean squared error  0.38461538461538464\n",
      "Classification Report                precision    recall  f1-score   support\n",
      "\n",
      "           0       0.56      0.51      0.53        39\n",
      "           1       0.65      0.69      0.67        52\n",
      "\n",
      "    accuracy                           0.62        91\n",
      "   macro avg       0.61      0.60      0.60        91\n",
      "weighted avg       0.61      0.62      0.61        91\n",
      "\n",
      "Confusion Matrix  [[20 19]\n",
      " [16 36]]\n"
     ]
    }
   ],
   "source": [
    "print(\"Accuracy \", accuracy_score(actual_values, predicted_values))\n",
    "print(\"R2-Score \", r2_score(actual_values, predicted_values))\n",
    "print(\"Mean absolute error \",sm.mean_absolute_error(actual_values, predicted_values))\n",
    "print(\"Mean squared error \",sm.mean_squared_error(actual_values, predicted_values))\n",
    "\n",
    "print(\"Classification Report \", classification_report(actual_values, predicted_values))\n",
    "print(\"Confusion Matrix \", confusion_matrix(actual_values, predicted_values))"
   ]
  },
  {
   "cell_type": "code",
   "execution_count": 220,
   "id": "5da38027",
   "metadata": {},
   "outputs": [],
   "source": [
    "ALGO.append(\"KNN - Classifier\")\n",
    "ACCURACY.append(accuracy_score(actual_values, predicted_values))"
   ]
  },
  {
   "cell_type": "markdown",
   "id": "7df6ab47",
   "metadata": {},
   "source": [
    "## Plotting the classification algorithms results"
   ]
  },
  {
   "cell_type": "code",
   "execution_count": 221,
   "id": "0e942be1",
   "metadata": {},
   "outputs": [
    {
     "data": {
      "image/png": "[encoded data removed]",
      "text/plain": [
       "<Figure size 1080x360 with 1 Axes>"
      ]
     },
     "metadata": {
      "needs_background": "light"
     },
     "output_type": "display_data"
    }
   ],
   "source": [
    "plt.figure(figsize=[15,5])\n",
    "plt.ylim([0,1])\n",
    "plt.bar(ALGO, ACCURACY)\n",
    "plt.show()"
   ]
  },
  {
   "cell_type": "markdown",
   "id": "4b3c23bf",
   "metadata": {},
   "source": [
    "## Ensemble Learning Models"
   ]
  },
  {
   "cell_type": "code",
   "execution_count": 222,
   "id": "2a0e7e29",
   "metadata": {},
   "outputs": [],
   "source": [
    "estimators = []\n",
    "\n",
    "model11 = LogisticRegression()\n",
    "estimators.append(('logistic1', model11))\n",
    "model12 = LogisticRegression()\n",
    "estimators.append(('logistic2', model12))\n",
    "model13 = LogisticRegression()\n",
    "estimators.append(('logistic3', model13))\n",
    "model14 = LogisticRegression()\n",
    "estimators.append(('logistic4', model14))\n",
    "model15 = LogisticRegression()\n",
    "estimators.append(('logistic5', model15))"
   ]
  },
  {
   "cell_type": "code",
   "execution_count": 223,
   "id": "7d5d1ad0",
   "metadata": {},
   "outputs": [
    {
     "name": "stdout",
     "output_type": "stream",
     "text": [
      "[('logistic1', LogisticRegression()), ('logistic2', LogisticRegression()), ('logistic3', LogisticRegression()), ('logistic4', LogisticRegression()), ('logistic5', LogisticRegression())]\n"
     ]
    }
   ],
   "source": [
    "# Printing the values of the estimators\n",
    "print(estimators)"
   ]
  },
  {
   "cell_type": "code",
   "execution_count": 224,
   "id": "c9f7a49f",
   "metadata": {},
   "outputs": [
    {
     "name": "stdout",
     "output_type": "stream",
     "text": [
      "[('logistic1', LogisticRegression()), ('logistic2', LogisticRegression()), ('logistic3', LogisticRegression()), ('logistic4', LogisticRegression()), ('logistic5', LogisticRegression()), ('cart1', DecisionTreeClassifier(max_depth=4)), ('cart2', DecisionTreeClassifier(max_depth=3)), ('cart3', DecisionTreeClassifier(max_depth=6)), ('cart4', DecisionTreeClassifier(max_depth=7)), ('cart5', DecisionTreeClassifier(max_depth=2))]\n"
     ]
    }
   ],
   "source": [
    "model16 = DecisionTreeClassifier(max_depth = 4)\n",
    "estimators.append(('cart1', model16))\n",
    "model17 = DecisionTreeClassifier(max_depth = 3)\n",
    "estimators.append(('cart2', model17))\n",
    "model18 = DecisionTreeClassifier(max_depth = 6)\n",
    "estimators.append(('cart3', model18))\n",
    "model19 = DecisionTreeClassifier(max_depth = 7)\n",
    "estimators.append(('cart4', model19))\n",
    "model20 = DecisionTreeClassifier(max_depth = 2)\n",
    "estimators.append(('cart5', model20))\n",
    "\n",
    "print(estimators)"
   ]
  },
  {
   "cell_type": "code",
   "execution_count": 225,
   "id": "ea16ea27",
   "metadata": {},
   "outputs": [
    {
     "name": "stdout",
     "output_type": "stream",
     "text": [
      "[('logistic1', LogisticRegression()), ('logistic2', LogisticRegression()), ('logistic3', LogisticRegression()), ('logistic4', LogisticRegression()), ('logistic5', LogisticRegression()), ('cart1', DecisionTreeClassifier(max_depth=4)), ('cart2', DecisionTreeClassifier(max_depth=3)), ('cart3', DecisionTreeClassifier(max_depth=6)), ('cart4', DecisionTreeClassifier(max_depth=7)), ('cart5', DecisionTreeClassifier(max_depth=2)), ('svm1', SVC(kernel='poly')), ('svm2', SVC(kernel='poly')), ('svm3', SVC()), ('svm4', SVC()), ('svm5', SVC(kernel='poly'))]\n"
     ]
    }
   ],
   "source": [
    "model21 = SVC(kernel = 'poly')\n",
    "estimators.append(('svm1', model21))\n",
    "model22 = SVC(kernel = 'poly')\n",
    "estimators.append(('svm2', model22))\n",
    "model23 = SVC(kernel = 'rbf')\n",
    "estimators.append(('svm3', model23))\n",
    "model24 = SVC(kernel = 'rbf')\n",
    "estimators.append(('svm4', model24))\n",
    "model25 = SVC(kernel = 'poly')\n",
    "estimators.append(('svm5', model25))\n",
    "\n",
    "print(estimators)"
   ]
  },
  {
   "cell_type": "code",
   "execution_count": 226,
   "id": "56379319",
   "metadata": {},
   "outputs": [],
   "source": [
    "model26 = KNeighborsClassifier(n_neighbors = 3, metric = 'euclidean')\n",
    "estimators.append(('knn1', model26))\n",
    "model27 = KNeighborsClassifier(n_neighbors = 5, metric = 'euclidean')\n",
    "estimators.append(('knn2', model27))\n",
    "model28 = KNeighborsClassifier(n_neighbors = 6, metric = 'euclidean')\n",
    "estimators.append(('knn3', model28))\n",
    "model29 = KNeighborsClassifier(n_neighbors = 4, metric = 'euclidean')\n",
    "estimators.append(('knn4', model29))\n",
    "model30 = KNeighborsClassifier(n_neighbors = 7, metric = 'euclidean')\n",
    "estimators.append(('knn5', model30))"
   ]
  },
  {
   "cell_type": "code",
   "execution_count": 227,
   "id": "787df781",
   "metadata": {},
   "outputs": [],
   "source": [
    "ensemble_model = VotingClassifier(estimators)"
   ]
  },
  {
   "cell_type": "code",
   "execution_count": 228,
   "id": "9d8ab155",
   "metadata": {},
   "outputs": [
    {
     "name": "stderr",
     "output_type": "stream",
     "text": [
      "/Users/sagarcbellad/opt/anaconda3/envs/base1/lib/python3.6/site-packages/sklearn/linear_model/_logistic.py:764: ConvergenceWarning: lbfgs failed to converge (status=1):\n",
      "STOP: TOTAL NO. of ITERATIONS REACHED LIMIT.\n",
      "\n",
      "Increase the number of iterations (max_iter) or scale the data as shown in:\n",
      "    https://scikit-learn.org/stable/modules/preprocessing.html\n",
      "Please also refer to the documentation for alternative solver options:\n",
      "    https://scikit-learn.org/stable/modules/linear_model.html#logistic-regression\n",
      "  extra_warning_msg=_LOGISTIC_SOLVER_CONVERGENCE_MSG)\n",
      "/Users/sagarcbellad/opt/anaconda3/envs/base1/lib/python3.6/site-packages/sklearn/linear_model/_logistic.py:764: ConvergenceWarning: lbfgs failed to converge (status=1):\n",
      "STOP: TOTAL NO. of ITERATIONS REACHED LIMIT.\n",
      "\n",
      "Increase the number of iterations (max_iter) or scale the data as shown in:\n",
      "    https://scikit-learn.org/stable/modules/preprocessing.html\n",
      "Please also refer to the documentation for alternative solver options:\n",
      "    https://scikit-learn.org/stable/modules/linear_model.html#logistic-regression\n",
      "  extra_warning_msg=_LOGISTIC_SOLVER_CONVERGENCE_MSG)\n",
      "/Users/sagarcbellad/opt/anaconda3/envs/base1/lib/python3.6/site-packages/sklearn/linear_model/_logistic.py:764: ConvergenceWarning: lbfgs failed to converge (status=1):\n",
      "STOP: TOTAL NO. of ITERATIONS REACHED LIMIT.\n",
      "\n",
      "Increase the number of iterations (max_iter) or scale the data as shown in:\n",
      "    https://scikit-learn.org/stable/modules/preprocessing.html\n",
      "Please also refer to the documentation for alternative solver options:\n",
      "    https://scikit-learn.org/stable/modules/linear_model.html#logistic-regression\n",
      "  extra_warning_msg=_LOGISTIC_SOLVER_CONVERGENCE_MSG)\n",
      "/Users/sagarcbellad/opt/anaconda3/envs/base1/lib/python3.6/site-packages/sklearn/linear_model/_logistic.py:764: ConvergenceWarning: lbfgs failed to converge (status=1):\n",
      "STOP: TOTAL NO. of ITERATIONS REACHED LIMIT.\n",
      "\n",
      "Increase the number of iterations (max_iter) or scale the data as shown in:\n",
      "    https://scikit-learn.org/stable/modules/preprocessing.html\n",
      "Please also refer to the documentation for alternative solver options:\n",
      "    https://scikit-learn.org/stable/modules/linear_model.html#logistic-regression\n",
      "  extra_warning_msg=_LOGISTIC_SOLVER_CONVERGENCE_MSG)\n",
      "/Users/sagarcbellad/opt/anaconda3/envs/base1/lib/python3.6/site-packages/sklearn/linear_model/_logistic.py:764: ConvergenceWarning: lbfgs failed to converge (status=1):\n",
      "STOP: TOTAL NO. of ITERATIONS REACHED LIMIT.\n",
      "\n",
      "Increase the number of iterations (max_iter) or scale the data as shown in:\n",
      "    https://scikit-learn.org/stable/modules/preprocessing.html\n",
      "Please also refer to the documentation for alternative solver options:\n",
      "    https://scikit-learn.org/stable/modules/linear_model.html#logistic-regression\n",
      "  extra_warning_msg=_LOGISTIC_SOLVER_CONVERGENCE_MSG)\n"
     ]
    },
    {
     "data": {
      "text/plain": [
       "VotingClassifier(estimators=[('logistic1', LogisticRegression()),\n",
       "                             ('logistic2', LogisticRegression()),\n",
       "                             ('logistic3', LogisticRegression()),\n",
       "                             ('logistic4', LogisticRegression()),\n",
       "                             ('logistic5', LogisticRegression()),\n",
       "                             ('cart1', DecisionTreeClassifier(max_depth=4)),\n",
       "                             ('cart2', DecisionTreeClassifier(max_depth=3)),\n",
       "                             ('cart3', DecisionTreeClassifier(max_depth=6)),\n",
       "                             ('cart4'...\n",
       "                             ('svm4', SVC()), ('svm5', SVC(kernel='poly')),\n",
       "                             ('knn1',\n",
       "                              KNeighborsClassifier(metric='euclidean',\n",
       "                                                   n_neighbors=3)),\n",
       "                             ('knn2', KNeighborsClassifier(metric='euclidean')),\n",
       "                             ('knn3',\n",
       "                              KNeighborsClassifier(metric='euclidean',\n",
       "                                                   n_neighbors=6)),\n",
       "                             ('knn4',\n",
       "                              KNeighborsClassifier(metric='euclidean',\n",
       "                                                   n_neighbors=4)),\n",
       "                             ('knn5',\n",
       "                              KNeighborsClassifier(metric='euclidean',\n",
       "                                                   n_neighbors=7))])"
      ]
     },
     "execution_count": 228,
     "metadata": {},
     "output_type": "execute_result"
    }
   ],
   "source": [
    "ensemble_model.fit(x_train, y_train)"
   ]
  },
  {
   "cell_type": "code",
   "execution_count": 229,
   "id": "adb71b18",
   "metadata": {},
   "outputs": [],
   "source": [
    "predicted_values = ensemble_model.predict(x_test)"
   ]
  },
  {
   "cell_type": "code",
   "execution_count": 230,
   "id": "fec2a926",
   "metadata": {},
   "outputs": [
    {
     "name": "stdout",
     "output_type": "stream",
     "text": [
      "Accuracy  0.8901098901098901\n",
      "R2-Score  0.5512820512820513\n",
      "Mean absolute error  0.10989010989010989\n",
      "Mean squared error  0.10989010989010989\n",
      "Classification Report                precision    recall  f1-score   support\n",
      "\n",
      "           0       0.87      0.87      0.87        39\n",
      "           1       0.90      0.90      0.90        52\n",
      "\n",
      "    accuracy                           0.89        91\n",
      "   macro avg       0.89      0.89      0.89        91\n",
      "weighted avg       0.89      0.89      0.89        91\n",
      "\n",
      "Confusion Matrix  [[34  5]\n",
      " [ 5 47]]\n"
     ]
    }
   ],
   "source": [
    "print(\"Accuracy \", accuracy_score(actual_values, predicted_values1))\n",
    "print(\"R2-Score \", r2_score(actual_values, predicted_values1))\n",
    "print(\"Mean absolute error \",sm.mean_absolute_error(actual_values, predicted_values1))\n",
    "print(\"Mean squared error \",sm.mean_squared_error(actual_values, predicted_values1))\n",
    "\n",
    "print(\"Classification Report \", classification_report(actual_values, predicted_values1))\n",
    "print(\"Confusion Matrix \", confusion_matrix(actual_values, predicted_values1))"
   ]
  },
  {
   "cell_type": "code",
   "execution_count": 231,
   "id": "9de6c782",
   "metadata": {},
   "outputs": [],
   "source": [
    "ALGO.append(\"Ensemble\")\n",
    "ACCURACY.append(accuracy_score(actual_values, predicted_values))"
   ]
  },
  {
   "cell_type": "code",
   "execution_count": 232,
   "id": "3b3bc608",
   "metadata": {},
   "outputs": [
    {
     "data": {
      "image/png": "[encoded data removed]",
      "text/plain": [
       "<Figure size 1080x360 with 1 Axes>"
      ]
     },
     "metadata": {
      "needs_background": "light"
     },
     "output_type": "display_data"
    }
   ],
   "source": [
    "plt.figure(figsize=[15,5])\n",
    "plt.ylim([0,1])\n",
    "plt.bar(ALGO, ACCURACY)\n",
    "plt.show()"
   ]
  },
  {
   "cell_type": "markdown",
   "id": "be12c33b",
   "metadata": {},
   "source": [
    "### AdaBoost Ensemble Model"
   ]
  },
  {
   "cell_type": "code",
   "execution_count": 233,
   "id": "08f03ab7",
   "metadata": {},
   "outputs": [],
   "source": [
    "adaBoost_model = AdaBoostClassifier(n_estimators=100, learning_rate=0.5)\n",
    "adaBoost_model = AdaBoostClassifier.fit(adaBoost_model, x_train, y_train)\n",
    "predictions = adaBoost_model.predict(x_test)"
   ]
  },
  {
   "cell_type": "code",
   "execution_count": 234,
   "id": "509f7e23",
   "metadata": {},
   "outputs": [
    {
     "name": "stdout",
     "output_type": "stream",
     "text": [
      "AdaBoost Classifier Accuracy Score 0.8681318681318682\n"
     ]
    }
   ],
   "source": [
    "print(\"AdaBoost Classifier Accuracy Score\", accuracy_score(predictions, y_test))"
   ]
  },
  {
   "cell_type": "code",
   "execution_count": 235,
   "id": "967ebaba",
   "metadata": {},
   "outputs": [],
   "source": [
    "ALGO.append(\"AdaBoost\")\n",
    "ACCURACY.append(accuracy_score(actual_values, predicted_values))"
   ]
  },
  {
   "cell_type": "markdown",
   "id": "7f39b3f1",
   "metadata": {},
   "source": [
    "### Gradient Ensemble Model"
   ]
  },
  {
   "cell_type": "code",
   "execution_count": 236,
   "id": "6911c583",
   "metadata": {},
   "outputs": [],
   "source": [
    "gbc = GradientBoostingClassifier(n_estimators=100, learning_rate=0.5, max_depth=6, random_state=1)\n",
    "gbc_model = gbc.fit(x_train, y_train)\n",
    "predictions = gbc.predict(x_test)"
   ]
  },
  {
   "cell_type": "code",
   "execution_count": 237,
   "id": "8f393c51",
   "metadata": {},
   "outputs": [
    {
     "name": "stdout",
     "output_type": "stream",
     "text": [
      "Gradient Boosting Model Accuracy Score 0.8461538461538461\n"
     ]
    }
   ],
   "source": [
    "print(\"Gradient Boosting Model Accuracy Score\", accuracy_score(predictions, y_test))"
   ]
  },
  {
   "cell_type": "code",
   "execution_count": 238,
   "id": "3e8e0486",
   "metadata": {},
   "outputs": [],
   "source": [
    "ALGO.append(\"G-Boosting\")\n",
    "ACCURACY.append(accuracy_score(actual_values, predicted_values))"
   ]
  },
  {
   "cell_type": "markdown",
   "id": "32d3c112",
   "metadata": {},
   "source": [
    "### XGBM Model"
   ]
  },
  {
   "cell_type": "code",
   "execution_count": 239,
   "id": "19e43fae",
   "metadata": {},
   "outputs": [],
   "source": [
    "xgb_clf = XGBClassifier()\n",
    "xgb_clf.fit(x_train, y_train)\n",
    "predictions = xgb_clf.predict(x_test)"
   ]
  },
  {
   "cell_type": "code",
   "execution_count": 240,
   "id": "6bff2ec5",
   "metadata": {},
   "outputs": [
    {
     "name": "stdout",
     "output_type": "stream",
     "text": [
      "XGBM Model Accuracy Score 0.9120879120879121\n"
     ]
    }
   ],
   "source": [
    "print(\"XGBM Model Accuracy Score\", accuracy_score(predictions, y_test))"
   ]
  },
  {
   "cell_type": "code",
   "execution_count": 241,
   "id": "4d088b07",
   "metadata": {},
   "outputs": [],
   "source": [
    "ALGO.append(\"XGBM\")\n",
    "ACCURACY.append(accuracy_score(actual_values, predicted_values))"
   ]
  },
  {
   "cell_type": "markdown",
   "id": "11fbfaf2",
   "metadata": {},
   "source": [
    "### Bagging meta-estimator"
   ]
  },
  {
   "cell_type": "code",
   "execution_count": 242,
   "id": "482eed3e",
   "metadata": {},
   "outputs": [
    {
     "name": "stdout",
     "output_type": "stream",
     "text": [
      "[0 0 0 1 1 0 0 0 1 0 1 1 0 0 1 1 0 1 1 1 1 1 1 0 0 0 1 0 1 1 1 0 1 1 1 1 0\n",
      " 1 0 1 1 0 0 1 0 1 1 0 0 1 1 1 1 1 0 1 1 0 0 1 0 0 0 0 0 1 0 0 0 0 0 1 1 1\n",
      " 0 0 1 0 1 1 0 1 1 1 0 1 0 1 1 0 1]\n"
     ]
    }
   ],
   "source": [
    "model = BaggingClassifier(DecisionTreeClassifier(random_state=1))\n",
    "model.fit(x_train, y_train)\n",
    "bg_prediction = model.predict(x_test)\n",
    "print(bg_prediction)"
   ]
  },
  {
   "cell_type": "code",
   "execution_count": 243,
   "id": "c0d7b8ac",
   "metadata": {},
   "outputs": [
    {
     "name": "stdout",
     "output_type": "stream",
     "text": [
      "Bagging Meta Estimator Model Accuracy Score 0.9120879120879121\n"
     ]
    }
   ],
   "source": [
    "print(\"Bagging Meta Estimator Model Accuracy Score\", accuracy_score(predictions, y_test))"
   ]
  },
  {
   "cell_type": "code",
   "execution_count": 244,
   "id": "a69d54f9",
   "metadata": {},
   "outputs": [],
   "source": [
    "ALGO.append(\"Bagging Meta Estimator\")\n",
    "ACCURACY.append(accuracy_score(actual_values, predicted_values))"
   ]
  },
  {
   "cell_type": "code",
   "execution_count": 246,
   "id": "b1e540a9",
   "metadata": {},
   "outputs": [
    {
     "data": {
      "image/png": "[encoded data removed]",
      "text/plain": [
       "<Figure size 1440x360 with 1 Axes>"
      ]
     },
     "metadata": {
      "needs_background": "light"
     },
     "output_type": "display_data"
    }
   ],
   "source": [
    "plt.figure(figsize=[20,5])\n",
    "plt.ylim([0,1])\n",
    "plt.bar(ALGO, ACCURACY)\n",
    "plt.show()"
   ]
  },
  {
   "cell_type": "code",
   "execution_count": 250,
   "id": "63248b61",
   "metadata": {},
   "outputs": [
    {
     "name": "stdout",
     "output_type": "stream",
     "text": [
      "Logistic Regression ----------- 0.8791208791208791\n",
      "Decision Tree Regressor ----------- 0.8241758241758241\n",
      "SVM-LINEAR ----------- 0.8901098901098901\n",
      "SVM-POLY ----------- 0.6813186813186813\n",
      "SVM-RBF ----------- 0.6703296703296703\n",
      "KNN - Classifier ----------- 0.6153846153846154\n",
      "Ensemble ----------- 0.8571428571428571\n",
      "AdaBoost ----------- 0.8571428571428571\n",
      "G-Boosting ----------- 0.8571428571428571\n",
      "XGBM ----------- 0.8571428571428571\n",
      "Bagging Meta Estimator ----------- 0.8571428571428571\n"
     ]
    }
   ],
   "source": [
    "for i in range(0, len(ALGO)):\n",
    "    print(ALGO[i],\"-----------\", ACCURACY[i])"
   ]
  },
  {
   "cell_type": "code",
   "execution_count": null,
   "id": "8358bae1",
   "metadata": {},
   "outputs": [],
   "source": []
  },
  {
   "cell_type": "code",
   "execution_count": null,
   "id": "65c67d30",
   "metadata": {},
   "outputs": [],
   "source": []
  }
 ],
 "metadata": {
  "kernelspec": {
   "display_name": "Python 3",
   "language": "python",
   "name": "python3"
  },
  "language_info": {
   "codemirror_mode": {
    "name": "ipython",
    "version": 3
   },
   "file_extension": ".py",
   "mimetype": "text/x-python",
   "name": "python",
   "nbconvert_exporter": "python",
   "pygments_lexer": "ipython3",
   "version": "3.6.10"
  }
 },
 "nbformat": 4,
 "nbformat_minor": 5
}
